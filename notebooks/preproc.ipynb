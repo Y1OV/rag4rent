{
 "cells": [
  {
   "cell_type": "code",
   "execution_count": null,
   "metadata": {},
   "outputs": [],
   "source": [
    "import pandas as pd\n",
    "import re\n",
    "from tqdm import tqdm\n",
    "from langchain_ollama.llms import OllamaLLM\n",
    "import random"
   ]
  },
  {
   "cell_type": "code",
   "execution_count": null,
   "metadata": {},
   "outputs": [],
   "source": [
    "file_path = 'data.xlsx'\n",
    "data = pd.read_excel(file_path)"
   ]
  },
  {
   "cell_type": "code",
   "execution_count": null,
   "metadata": {},
   "outputs": [],
   "source": [
    "\n",
    "def extract_prices_from_text(text):\n",
    "    if not isinstance(text, str):\n",
    "        return None\n",
    "    price_patterns = re.findall(r'\\b\\d{4,6}(?:-\\d{4,6})?\\b', text.replace(' ', ''))\n",
    "    extracted_prices = []\n",
    "    for price in price_patterns:\n",
    "        if '-' in price:\n",
    "            low, high = map(int, price.split('-'))\n",
    "            extracted_prices.append(high)\n",
    "        else:\n",
    "            extracted_prices.append(int(price))\n",
    "    return extracted_prices if extracted_prices else None"
   ]
  },
  {
   "cell_type": "code",
   "execution_count": null,
   "metadata": {},
   "outputs": [],
   "source": [
    "def get_price_from_model(description, area):\n",
    "    prompt = f\"\"\"\n",
    "На основе следующего описания дома определите стоимость аренды за **одни сутки**:\n",
    "\n",
    "{description}\n",
    "\n",
    "Условия:\n",
    "1. Если указана стоимость для **выходных дней** (пятница или суббота), используйте **максимальную стоимость для выходного дня**.\n",
    "2. Если указана стоимость для **праздничных дней** или **новогодних праздников**, используйте **максимальную стоимость**, если это обосновано.\n",
    "3. Если цены для будних дней (воскресенье-четверг) и выходных различаются, используйте стоимость для **выходного дня**.\n",
    "4. Ответ должен быть **только числом** — стоимость аренды за сутки в рублях.\n",
    "\"\"\"\n",
    "    response = model(prompt)\n",
    "    try:\n",
    "        return int(re.search(r'\\d+', response).group())\n",
    "    except (ValueError, AttributeError):\n",
    "        return None\n",
    "\n",
    "def process_row(row):\n",
    "    description = row.get('Описание', '')\n",
    "    area = row.get('Площадь, м2', 0)\n",
    "    initial_price = int(re.search(r'\\d+', str(row.get('Цена', '0'))).group()) if pd.notna(row['Цена']) else 0\n",
    "    extracted_prices = extract_prices_from_text(description)\n",
    "\n",
    "    if extracted_prices:\n",
    "        avg_price = sum(extracted_prices) // len(extracted_prices)\n",
    "    else:\n",
    "        avg_price = get_price_from_model(description, area) or initial_price\n",
    "\n",
    "    if area < 100:\n",
    "        avg_price = max(avg_price, 10000)\n",
    "    elif 100 <= area < 300:\n",
    "        avg_price = max(avg_price, 25000)\n",
    "    else:\n",
    "        avg_price = max(avg_price, 50000)\n",
    "\n",
    "    if avg_price < initial_price:\n",
    "        avg_price = initial_price + random.randint(2000, 5000)\n",
    "\n",
    "    return round(avg_price / 1000) * 1000\n"
   ]
  },
  {
   "cell_type": "code",
   "execution_count": null,
   "metadata": {},
   "outputs": [],
   "source": [
    "model = OllamaLLM(\n",
    "    model=\"qwen2.5:72b-instruct-q4_0\",\n",
    "    temperature=0.1,\n",
    "    device=\"cuda:0\"\n",
    ")\n",
    "\n",
    "for index, row in tqdm(data.iterrows(), desc=\"Обработка данных\", total=data.shape[0]):\n",
    "    new_price = process_row(row)\n",
    "    data.at[index, 'Цена'] = f\"{new_price} руб/день\"\n"
   ]
  },
  {
   "cell_type": "code",
   "execution_count": null,
   "metadata": {},
   "outputs": [],
   "source": [
    "output_file = 'new_data.xlsx'\n",
    "data.to_excel(output_file, index=False)\n",
    "\n",
    "print(\"\\nОбработанные данные:\")\n",
    "for index, row in data.iterrows():\n",
    "    print(f\"Описание: {row['Описание'][:100]}..., Новая цена: {row['Цена']}\")\n",
    "\n",
    "print(f\"\\nФайл успешно сохранён: {output_file}\")\n"
   ]
  },
  {
   "cell_type": "code",
   "execution_count": null,
   "metadata": {},
   "outputs": [],
   "source": []
  }
 ],
 "metadata": {
  "kernelspec": {
   "display_name": "slava-kbTBmGG9-py3.10",
   "language": "python",
   "name": "python3"
  },
  "language_info": {
   "codemirror_mode": {
    "name": "ipython",
    "version": 3
   },
   "file_extension": ".py",
   "mimetype": "text/x-python",
   "name": "python",
   "nbconvert_exporter": "python",
   "pygments_lexer": "ipython3",
   "version": "3.10.12"
  }
 },
 "nbformat": 4,
 "nbformat_minor": 2
}
